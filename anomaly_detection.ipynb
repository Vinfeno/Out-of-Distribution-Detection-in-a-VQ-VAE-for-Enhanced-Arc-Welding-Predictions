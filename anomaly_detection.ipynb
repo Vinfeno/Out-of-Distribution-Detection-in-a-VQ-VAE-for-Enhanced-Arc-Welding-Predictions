{
 "cells": [
  {
   "cell_type": "code",
   "execution_count": 5,
   "metadata": {},
   "outputs": [],
   "source": [
    "import argparse\n",
    "import os\n",
    "import logging as log\n",
    "import torch\n",
    "import matplotlib\n",
    "from dataloader.asimow_dataloader import DataSplitId, ASIMoWDataModule\n",
    "from dataloader.latentspace_dataloader import LatentPredDataModule\n",
    "from dataloader.utils import get_val_test_ids\n",
    "from model.vq_vae import VectorQuantizedVAE\n",
    "from model.vq_vae_patch_embedd import VQVAEPatch\n",
    "from lightning.pytorch.loggers.wandb import WandbLogger\n",
    "from lightning.pytorch.loggers.csv_logs import CSVLogger\n",
    "from lightning.pytorch.callbacks import ModelCheckpoint, EarlyStopping\n",
    "from lightning import Trainer\n",
    "from model.mlp import MLP\n",
    "from model.gru import GRU\n",
    "from model.classification_model import ClassificationLightningModule\n",
    "import numpy as np"
   ]
  },
  {
   "cell_type": "code",
   "execution_count": 15,
   "metadata": {},
   "outputs": [],
   "source": [
    "dataset_dict = get_val_test_ids()\n",
    "val_ids = dataset_dict[\"val_ids\"]\n",
    "test_ids = dataset_dict[\"test_ids\"]\n",
    "\n",
    "# Convert IDs to DataSplitId format and initialize data module\n",
    "val_ids = [DataSplitId(experiment=e, welding_run=w) for e, w in val_ids]\n",
    "test_ids = [DataSplitId(experiment=e, welding_run=w) for e, w in test_ids]\n",
    "data_module = ASIMoWDataModule(task=\"reconstruction\", batch_size=512, n_cycles=1, val_data_ids=val_ids, test_data_ids=test_ids)\n",
    "input_dim = 2  # Ensure input dimension is set correctly for 'asimow'\n",
    "data_module.setup(stage=\"fit\")\n",
    "\n",
    "# Get DataLoader\n",
    "train_loader = data_module.test_dataloader()"
   ]
  },
  {
   "cell_type": "code",
   "execution_count": 16,
   "metadata": {},
   "outputs": [],
   "source": [
    "for i, batch in enumerate(train_loader):\n",
    "    # Here, we're assuming each batch is a single tensor\n",
    "    data = batch\n",
    "\n",
    "    print(f\"Batch {i}:\")\n",
    "    print(f\"Shape: {data.shape}\")\n",
    "\n",
    "    # Print the first few samples for inspection\n",
    "    print(\"First few samples:\")\n",
    "    print(data[:5])\n",
    "\n",
    "    if i >= 1:  # Limit to inspecting a couple of batches\n",
    "        break\n"
   ]
  },
  {
   "cell_type": "code",
   "execution_count": 34,
   "metadata": {},
   "outputs": [],
   "source": [
    "import pickle\n",
    "import pandas as pd\n",
    "\n",
    "# Path to your .pickle file\n",
    "pickle_file_path = \"data/quality_prediction_data/asimow/dataset.pickle\"\n",
    "\n",
    "# Load the dataset from the pickle file\n",
    "with open(pickle_file_path, 'rb') as file:\n",
    "    dataset = pickle.load(file)\n",
    "\n",
    "ex_1_and_2 = dataset[(dataset.experiment!=3)]\n",
    "ex_3 = dataset[(dataset.experiment==3)]\n",
    "\n",
    "# Now, 'dataset' is the object that was stored in the .pickle file.\n",
    "# You can use it as per your requirements.\n"
   ]
  }
 ],
 "metadata": {
  "kernelspec": {
   "display_name": "Python 3",
   "language": "python",
   "name": "python3"
  },
  "language_info": {
   "codemirror_mode": {
    "name": "ipython",
    "version": 3
   },
   "file_extension": ".py",
   "mimetype": "text/x-python",
   "name": "python",
   "nbconvert_exporter": "python",
   "pygments_lexer": "ipython3",
   "version": "3.11.6"
  }
 },
 "nbformat": 4,
 "nbformat_minor": 2
}
