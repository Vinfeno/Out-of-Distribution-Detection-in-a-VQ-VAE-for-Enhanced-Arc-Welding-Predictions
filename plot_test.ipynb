{
 "cells": [
  {
   "cell_type": "code",
   "execution_count": 1,
   "metadata": {},
   "outputs": [],
   "source": [
    "from VQ_Loss_Plotter import VQ_Loss_Plotter"
   ]
  },
  {
   "cell_type": "code",
   "execution_count": 2,
   "metadata": {},
   "outputs": [],
   "source": [
    "plotter = VQ_Loss_Plotter()"
   ]
  },
  {
   "cell_type": "code",
   "execution_count": 3,
   "metadata": {},
   "outputs": [
    {
     "name": "stderr",
     "output_type": "stream",
     "text": [
      "Progress:   0%|          | 0/18 [00:00<?, ?it/s]"
     ]
    },
    {
     "name": "stdout",
     "output_type": "stream",
     "text": [
      "Index(['Experiment ID', 'Embedding\\nLoss Max', 'Embedding\\nLoss Min',\n",
      "       'Embedding\\nLoss Mean', 'Embedding\\nLoss Variance',\n",
      "       'Reconstruction\\nLoss Max', 'Reconstruction\\nLoss Min',\n",
      "       'Reconstruction\\nLoss Mean', 'Reconstruction\\nLoss Variance',\n",
      "       'Correlation\\nCoefficient'],\n",
      "      dtype='object')\n"
     ]
    },
    {
     "name": "stderr",
     "output_type": "stream",
     "text": [
      "Progress:   6%|▌         | 1/18 [00:06<01:50,  6.50s/it]"
     ]
    },
    {
     "name": "stdout",
     "output_type": "stream",
     "text": [
      "Index(['Experiment ID', 'Embedding\\nLoss Max', 'Embedding\\nLoss Min',\n",
      "       'Embedding\\nLoss Mean', 'Embedding\\nLoss Variance',\n",
      "       'Reconstruction\\nLoss Max', 'Reconstruction\\nLoss Min',\n",
      "       'Reconstruction\\nLoss Mean', 'Reconstruction\\nLoss Variance',\n",
      "       'Correlation\\nCoefficient'],\n",
      "      dtype='object')\n"
     ]
    },
    {
     "name": "stderr",
     "output_type": "stream",
     "text": [
      "Progress:  11%|█         | 2/18 [00:12<01:39,  6.23s/it]"
     ]
    },
    {
     "name": "stdout",
     "output_type": "stream",
     "text": [
      "Index(['Experiment ID', 'Embedding\\nLoss Max', 'Embedding\\nLoss Min',\n",
      "       'Embedding\\nLoss Mean', 'Embedding\\nLoss Variance',\n",
      "       'Reconstruction\\nLoss Max', 'Reconstruction\\nLoss Min',\n",
      "       'Reconstruction\\nLoss Mean', 'Reconstruction\\nLoss Variance',\n",
      "       'Correlation\\nCoefficient'],\n",
      "      dtype='object')\n"
     ]
    },
    {
     "name": "stderr",
     "output_type": "stream",
     "text": [
      "Progress:  17%|█▋        | 3/18 [00:18<01:34,  6.28s/it]"
     ]
    },
    {
     "name": "stdout",
     "output_type": "stream",
     "text": [
      "Index(['Experiment ID', 'Embedding\\nLoss Max', 'Embedding\\nLoss Min',\n",
      "       'Embedding\\nLoss Mean', 'Embedding\\nLoss Variance',\n",
      "       'Reconstruction\\nLoss Max', 'Reconstruction\\nLoss Min',\n",
      "       'Reconstruction\\nLoss Mean', 'Reconstruction\\nLoss Variance',\n",
      "       'Correlation\\nCoefficient'],\n",
      "      dtype='object')\n"
     ]
    },
    {
     "name": "stderr",
     "output_type": "stream",
     "text": [
      "Progress:  22%|██▏       | 4/18 [00:25<01:27,  6.25s/it]"
     ]
    },
    {
     "name": "stdout",
     "output_type": "stream",
     "text": [
      "Index(['Experiment ID', 'Embedding\\nLoss Max', 'Embedding\\nLoss Min',\n",
      "       'Embedding\\nLoss Mean', 'Embedding\\nLoss Variance',\n",
      "       'Reconstruction\\nLoss Max', 'Reconstruction\\nLoss Min',\n",
      "       'Reconstruction\\nLoss Mean', 'Reconstruction\\nLoss Variance',\n",
      "       'Correlation\\nCoefficient'],\n",
      "      dtype='object')\n"
     ]
    },
    {
     "name": "stderr",
     "output_type": "stream",
     "text": [
      "Progress:  28%|██▊       | 5/18 [00:31<01:20,  6.19s/it]"
     ]
    },
    {
     "name": "stdout",
     "output_type": "stream",
     "text": [
      "Index(['Experiment ID', 'Embedding\\nLoss Max', 'Embedding\\nLoss Min',\n",
      "       'Embedding\\nLoss Mean', 'Embedding\\nLoss Variance',\n",
      "       'Reconstruction\\nLoss Max', 'Reconstruction\\nLoss Min',\n",
      "       'Reconstruction\\nLoss Mean', 'Reconstruction\\nLoss Variance',\n",
      "       'Correlation\\nCoefficient'],\n",
      "      dtype='object')\n"
     ]
    },
    {
     "name": "stderr",
     "output_type": "stream",
     "text": [
      "Progress:  33%|███▎      | 6/18 [00:37<01:14,  6.18s/it]"
     ]
    },
    {
     "name": "stdout",
     "output_type": "stream",
     "text": [
      "Index(['Experiment ID', 'Embedding\\nLoss Max', 'Embedding\\nLoss Min',\n",
      "       'Embedding\\nLoss Mean', 'Embedding\\nLoss Variance',\n",
      "       'Reconstruction\\nLoss Max', 'Reconstruction\\nLoss Min',\n",
      "       'Reconstruction\\nLoss Mean', 'Reconstruction\\nLoss Variance',\n",
      "       'Correlation\\nCoefficient'],\n",
      "      dtype='object')\n"
     ]
    },
    {
     "name": "stderr",
     "output_type": "stream",
     "text": [
      "Progress:  39%|███▉      | 7/18 [00:43<01:09,  6.28s/it]"
     ]
    },
    {
     "name": "stdout",
     "output_type": "stream",
     "text": [
      "Index(['Experiment ID', 'Embedding\\nLoss Max', 'Embedding\\nLoss Min',\n",
      "       'Embedding\\nLoss Mean', 'Embedding\\nLoss Variance',\n",
      "       'Reconstruction\\nLoss Max', 'Reconstruction\\nLoss Min',\n",
      "       'Reconstruction\\nLoss Mean', 'Reconstruction\\nLoss Variance',\n",
      "       'Correlation\\nCoefficient'],\n",
      "      dtype='object')\n"
     ]
    },
    {
     "name": "stderr",
     "output_type": "stream",
     "text": [
      "Progress:  44%|████▍     | 8/18 [00:50<01:02,  6.28s/it]"
     ]
    },
    {
     "name": "stdout",
     "output_type": "stream",
     "text": [
      "Index(['Experiment ID', 'Embedding\\nLoss Max', 'Embedding\\nLoss Min',\n",
      "       'Embedding\\nLoss Mean', 'Embedding\\nLoss Variance',\n",
      "       'Reconstruction\\nLoss Max', 'Reconstruction\\nLoss Min',\n",
      "       'Reconstruction\\nLoss Mean', 'Reconstruction\\nLoss Variance',\n",
      "       'Correlation\\nCoefficient'],\n",
      "      dtype='object')\n"
     ]
    },
    {
     "name": "stderr",
     "output_type": "stream",
     "text": [
      "Progress:  50%|█████     | 9/18 [00:57<00:59,  6.64s/it]"
     ]
    },
    {
     "name": "stdout",
     "output_type": "stream",
     "text": [
      "Index(['Experiment ID', 'Embedding\\nLoss Max', 'Embedding\\nLoss Min',\n",
      "       'Embedding\\nLoss Mean', 'Embedding\\nLoss Variance',\n",
      "       'Reconstruction\\nLoss Max', 'Reconstruction\\nLoss Min',\n",
      "       'Reconstruction\\nLoss Mean', 'Reconstruction\\nLoss Variance',\n",
      "       'Correlation\\nCoefficient'],\n",
      "      dtype='object')\n"
     ]
    },
    {
     "name": "stderr",
     "output_type": "stream",
     "text": [
      "Progress:  56%|█████▌    | 10/18 [01:04<00:53,  6.72s/it]"
     ]
    },
    {
     "name": "stdout",
     "output_type": "stream",
     "text": [
      "Index(['Experiment ID', 'Embedding\\nLoss Max', 'Embedding\\nLoss Min',\n",
      "       'Embedding\\nLoss Mean', 'Embedding\\nLoss Variance',\n",
      "       'Reconstruction\\nLoss Max', 'Reconstruction\\nLoss Min',\n",
      "       'Reconstruction\\nLoss Mean', 'Reconstruction\\nLoss Variance',\n",
      "       'Correlation\\nCoefficient'],\n",
      "      dtype='object')\n"
     ]
    },
    {
     "name": "stderr",
     "output_type": "stream",
     "text": [
      "Progress:  61%|██████    | 11/18 [01:12<00:49,  7.11s/it]"
     ]
    },
    {
     "name": "stdout",
     "output_type": "stream",
     "text": [
      "Index(['Experiment ID', 'Embedding\\nLoss Max', 'Embedding\\nLoss Min',\n",
      "       'Embedding\\nLoss Mean', 'Embedding\\nLoss Variance',\n",
      "       'Reconstruction\\nLoss Max', 'Reconstruction\\nLoss Min',\n",
      "       'Reconstruction\\nLoss Mean', 'Reconstruction\\nLoss Variance',\n",
      "       'Correlation\\nCoefficient'],\n",
      "      dtype='object')\n"
     ]
    },
    {
     "name": "stderr",
     "output_type": "stream",
     "text": [
      "Progress:  67%|██████▋   | 12/18 [01:23<00:49,  8.32s/it]"
     ]
    },
    {
     "name": "stdout",
     "output_type": "stream",
     "text": [
      "Index(['Experiment ID', 'Embedding\\nLoss Max', 'Embedding\\nLoss Min',\n",
      "       'Embedding\\nLoss Mean', 'Embedding\\nLoss Variance',\n",
      "       'Reconstruction\\nLoss Max', 'Reconstruction\\nLoss Min',\n",
      "       'Reconstruction\\nLoss Mean', 'Reconstruction\\nLoss Variance',\n",
      "       'Correlation\\nCoefficient'],\n",
      "      dtype='object')\n"
     ]
    },
    {
     "name": "stderr",
     "output_type": "stream",
     "text": [
      "Progress:  72%|███████▏  | 13/18 [01:35<00:47,  9.44s/it]"
     ]
    },
    {
     "name": "stdout",
     "output_type": "stream",
     "text": [
      "Index(['Experiment ID', 'Embedding\\nLoss Max', 'Embedding\\nLoss Min',\n",
      "       'Embedding\\nLoss Mean', 'Embedding\\nLoss Variance',\n",
      "       'Reconstruction\\nLoss Max', 'Reconstruction\\nLoss Min',\n",
      "       'Reconstruction\\nLoss Mean', 'Reconstruction\\nLoss Variance',\n",
      "       'Correlation\\nCoefficient'],\n",
      "      dtype='object')\n"
     ]
    },
    {
     "name": "stderr",
     "output_type": "stream",
     "text": [
      "Progress:  78%|███████▊  | 14/18 [01:47<00:40, 10.15s/it]"
     ]
    },
    {
     "name": "stdout",
     "output_type": "stream",
     "text": [
      "Index(['Experiment ID', 'Embedding\\nLoss Max', 'Embedding\\nLoss Min',\n",
      "       'Embedding\\nLoss Mean', 'Embedding\\nLoss Variance',\n",
      "       'Reconstruction\\nLoss Max', 'Reconstruction\\nLoss Min',\n",
      "       'Reconstruction\\nLoss Mean', 'Reconstruction\\nLoss Variance',\n",
      "       'Correlation\\nCoefficient'],\n",
      "      dtype='object')\n"
     ]
    },
    {
     "name": "stderr",
     "output_type": "stream",
     "text": [
      "Progress:  83%|████████▎ | 15/18 [01:56<00:29,  9.96s/it]"
     ]
    },
    {
     "name": "stdout",
     "output_type": "stream",
     "text": [
      "Index(['Experiment ID', 'Embedding\\nLoss Max', 'Embedding\\nLoss Min',\n",
      "       'Embedding\\nLoss Mean', 'Embedding\\nLoss Variance',\n",
      "       'Reconstruction\\nLoss Max', 'Reconstruction\\nLoss Min',\n",
      "       'Reconstruction\\nLoss Mean', 'Reconstruction\\nLoss Variance',\n",
      "       'Correlation\\nCoefficient'],\n",
      "      dtype='object')\n"
     ]
    },
    {
     "name": "stderr",
     "output_type": "stream",
     "text": [
      "Progress:  89%|████████▉ | 16/18 [02:08<00:21, 10.55s/it]"
     ]
    },
    {
     "name": "stdout",
     "output_type": "stream",
     "text": [
      "Index(['Experiment ID', 'Embedding\\nLoss Max', 'Embedding\\nLoss Min',\n",
      "       'Embedding\\nLoss Mean', 'Embedding\\nLoss Variance',\n",
      "       'Reconstruction\\nLoss Max', 'Reconstruction\\nLoss Min',\n",
      "       'Reconstruction\\nLoss Mean', 'Reconstruction\\nLoss Variance',\n",
      "       'Correlation\\nCoefficient'],\n",
      "      dtype='object')\n"
     ]
    },
    {
     "name": "stderr",
     "output_type": "stream",
     "text": [
      "Progress:  94%|█████████▍| 17/18 [02:20<00:10, 10.77s/it]"
     ]
    },
    {
     "name": "stdout",
     "output_type": "stream",
     "text": [
      "Index(['Experiment ID', 'Embedding\\nLoss Max', 'Embedding\\nLoss Min',\n",
      "       'Embedding\\nLoss Mean', 'Embedding\\nLoss Variance',\n",
      "       'Reconstruction\\nLoss Max', 'Reconstruction\\nLoss Min',\n",
      "       'Reconstruction\\nLoss Mean', 'Reconstruction\\nLoss Variance',\n",
      "       'Correlation\\nCoefficient'],\n",
      "      dtype='object')\n"
     ]
    },
    {
     "name": "stderr",
     "output_type": "stream",
     "text": [
      "Progress: 100%|██████████| 18/18 [02:31<00:00,  8.40s/it]\n"
     ]
    }
   ],
   "source": [
    "plotter.heatmaps(data_splits=[\"vd-inv\"], \n",
    "                    epochs=[50], \n",
    "                    embeddings=[16, 64, 256], \n",
    "                    betas=[0.01, 0.1, 0.25, 0.5, 0.75, 1], \n",
    "                    image_path=\"images/Heatmap/\")"
   ]
  }
 ],
 "metadata": {
  "kernelspec": {
   "display_name": "Python 3",
   "language": "python",
   "name": "python3"
  },
  "language_info": {
   "codemirror_mode": {
    "name": "ipython",
    "version": 3
   },
   "file_extension": ".py",
   "mimetype": "text/x-python",
   "name": "python",
   "nbconvert_exporter": "python",
   "pygments_lexer": "ipython3",
   "version": "3.1.0"
  }
 },
 "nbformat": 4,
 "nbformat_minor": 2
}
